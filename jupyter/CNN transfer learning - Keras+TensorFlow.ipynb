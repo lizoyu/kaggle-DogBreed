{
 "cells": [
  {
   "cell_type": "markdown",
   "metadata": {},
   "source": [
    "# CNN transfer learning - Keras+TensorFlow"
   ]
  },
  {
   "cell_type": "markdown",
   "metadata": {},
   "source": [
    "This is for CNN models transferred from pretrained model, using Keras based on TensorFlow. First, some preparation work."
   ]
  },
  {
   "cell_type": "code",
   "execution_count": 1,
   "metadata": {
    "collapsed": false
   },
   "outputs": [
    {
     "name": "stderr",
     "output_type": "stream",
     "text": [
      "Using TensorFlow backend.\n"
     ]
    }
   ],
   "source": [
    "from keras.layers import Conv2D, MaxPooling2D, Input, Dense, Flatten, Activation, add, Lambda\n",
    "from keras.layers.normalization import BatchNormalization\n",
    "from keras.layers.pooling import GlobalAveragePooling2D\n",
    "from keras.optimizers import RMSprop\n",
    "from keras.backend import tf as ktf\n",
    "from keras.models import Model, Sequential, load_model\n",
    "from keras.callbacks import ModelCheckpoint, EarlyStopping\n",
    "from keras.applications.resnet50 import ResNet50\n",
    "from lib.data_utils import get_MNIST_data"
   ]
  },
  {
   "cell_type": "markdown",
   "metadata": {},
   "source": [
    "Read the MNIST data. Notice that we assume that it's 'kaggle-DigitRecognizer/data/train.csv', and we use helper function to read into a dictionary."
   ]
  },
  {
   "cell_type": "code",
   "execution_count": 2,
   "metadata": {
    "collapsed": false
   },
   "outputs": [
    {
     "name": "stdout",
     "output_type": "stream",
     "text": [
      "image size:  (41000, 28, 28, 3)\n"
     ]
    }
   ],
   "source": [
    "data = get_MNIST_data(num_validation=0, fit=True)\n",
    "\n",
    "# see if we get the data correctly\n",
    "print('image size: ', data['X_train'].shape)"
   ]
  },
  {
   "cell_type": "markdown",
   "metadata": {},
   "source": [
    "## Freeze-weights transfer"
   ]
  },
  {
   "cell_type": "markdown",
   "metadata": {},
   "source": [
    "We would use ResNet50 provided in Keras. In this section, the pretrained model would all be freezed, and new output layer would be attatched to the model, and only this output layer would be trained."
   ]
  },
  {
   "cell_type": "code",
   "execution_count": null,
   "metadata": {
    "collapsed": true
   },
   "outputs": [],
   "source": [
    "# build the model\n",
    "# preprocess to (28,28,3), then build a resize layer using tf.resize_images() to (224,224,3) as input\n",
    "inputs = Input(shape=(28,28,3))\n",
    "inputs_resize = Lambda(lambda img: ktf.image.resize_images(img, (224,224)))(inputs) # resize layer\n",
    "resnet50 = ResNet50(include_top=False, input_tensor=inputs_resize, input_shape=(224,224,3), pooling='avg')\n",
    "x = resnet50.output\n",
    "#x = Dense(units=1024, activation='relu')(x)\n",
    "predictions = Dense(units=10, activation='softmax')(x)\n",
    "\n",
    "# connect the model\n",
    "freezemodel = Model(inputs=inputs, outputs=predictions)\n",
    "#freezemodel.summary()\n",
    "\n",
    "# freeze all ResNet50 layers\n",
    "for layer in resnet50.layers:\n",
    "    layer.trainable = False\n",
    "\n",
    "# set the loss and optimizer\n",
    "freezemodel.compile(optimizer='rmsprop', loss='sparse_categorical_crossentropy', metrics=['accuracy'])\n",
    "\n",
    "# fit the model\n",
    "checkpoint = ModelCheckpoint('../models/freezeResNet_{epoch:02d}-{loss:.2f}.h5',\n",
    "                             monitor='loss',\n",
    "                             save_best_only=True)\n",
    "freezemodel.fit(data['X_train'], data['y_train'].reshape(-1,1),\n",
    "                batch_size=16, epochs=10, callbacks=[checkpoint], initial_epoch=1)\n",
    "\n",
    "# test the model and see accuracy\n",
    "score = freezemodel.evaluate(data['X_test'], data['y_test'].reshape(-1, 1), batch_size=32)\n",
    "print(score)"
   ]
  },
  {
   "cell_type": "code",
   "execution_count": null,
   "metadata": {
    "collapsed": true
   },
   "outputs": [],
   "source": [
    "# save the model: 0.96\n",
    "freezemodel.save('ResNet50_freeze.h5')"
   ]
  },
  {
   "cell_type": "code",
   "execution_count": null,
   "metadata": {
    "collapsed": true
   },
   "outputs": [],
   "source": [
    "# continue the model training\n",
    "freezemodel = load_model('../models/ResNet50_freeze.h5', custom_objects={'ktf': ktf})\n",
    "\n",
    "# set the loss and optimizer\n",
    "rmsprop = RMSprop(lr=0.0001)\n",
    "freezemodel.compile(optimizer=rmsprop, loss='sparse_categorical_crossentropy', metrics=['accuracy'])\n",
    "\n",
    "# fit the model\n",
    "checkpoint = ModelCheckpoint('../models/freezeResNet_{epoch:02d}-{loss:.2f}.h5',\n",
    "                             monitor='loss',\n",
    "                             save_best_only=True)\n",
    "freezemodel.fit(data['X_train'], data['y_train'].reshape(-1, 1),\n",
    "                batch_size=16, epochs=10, callbacks=[checkpoint], initial_epoch=4)"
   ]
  },
  {
   "cell_type": "markdown",
   "metadata": {},
   "source": [
    "## Fine-tune transfer"
   ]
  },
  {
   "cell_type": "markdown",
   "metadata": {},
   "source": [
    "In this section, the model is the same as before, but all weights are trained along with the final layer using smaller learning rate."
   ]
  },
  {
   "cell_type": "code",
   "execution_count": null,
   "metadata": {
    "collapsed": false
   },
   "outputs": [],
   "source": [
    "# build the model\n",
    "# preprocess to (28,28,3), then build a resize layer using tf.resize_images() to (224,224,3) as input\n",
    "inputs = Input(shape=(28,28,3))\n",
    "inputs_resize = Lambda(lambda img: ktf.image.resize_images(img, (224,224)))(inputs) # resize layer\n",
    "resnet50 = ResNet50(include_top=False, input_tensor=inputs_resize, input_shape=(224,224,3), pooling='avg')\n",
    "x = resnet50.output\n",
    "#x = Dense(units=1024, activation='relu')(x)\n",
    "predictions = Dense(units=10, activation='softmax')(x)\n",
    "\n",
    "# connect the model\n",
    "tunemodel = Model(inputs=inputs, outputs=predictions)\n",
    "#freezemodel.summary()\n",
    "\n",
    "# set the loss and optimizer\n",
    "rmsprop = RMSprop(lr=0.0001)\n",
    "tunemodel.compile(optimizer=rmsprop, loss='sparse_categorical_crossentropy', metrics=['accuracy'])\n",
    "\n",
    "# fit the model\n",
    "checkpoint = ModelCheckpoint('../models/tuneResNet_{epoch:02d}-{loss:.2f}.h5',\n",
    "                             monitor='loss',\n",
    "                             save_best_only=True)\n",
    "tunemodel.fit(data['X_train'], data['y_train'].reshape(-1, 1),\n",
    "                batch_size=16, epochs=10, callbacks=[checkpoint], initial_epoch=0)\n",
    "\n",
    "# test the model and see accuracy\n",
    "score = tunemodel.evaluate(data['X_test'], data['y_test'].reshape(-1, 1), batch_size=32)\n",
    "print(score)"
   ]
  },
  {
   "cell_type": "markdown",
   "metadata": {
    "collapsed": false
   },
   "source": [
    "## Fine-tune transfer with early stopping"
   ]
  },
  {
   "cell_type": "markdown",
   "metadata": {},
   "source": [
    "Based on the previous section, the test set is used as the validation set, so as to monitor for early stopping."
   ]
  },
  {
   "cell_type": "code",
   "execution_count": null,
   "metadata": {
    "collapsed": true
   },
   "outputs": [],
   "source": [
    "# build the model\n",
    "# preprocess to (28,28,3), then build a resize layer using tf.resize_images() to (224,224,3) as input\n",
    "inputs = Input(shape=(28,28,3))\n",
    "inputs_resize = Lambda(lambda img: ktf.image.resize_images(img, (224,224)))(inputs) # resize layer\n",
    "resnet50 = ResNet50(include_top=False, input_tensor=inputs_resize, input_shape=(224,224,3), pooling='avg')\n",
    "x = resnet50.output\n",
    "predictions = Dense(units=10, activation='softmax')(x)\n",
    "\n",
    "# connect the model\n",
    "tunemodel = Model(inputs=inputs, outputs=predictions)\n",
    "\n",
    "# set the loss and optimizer\n",
    "rmsprop = RMSprop(lr=0.0001)\n",
    "tunemodel.compile(optimizer=rmsprop, loss='sparse_categorical_crossentropy', metrics=['accuracy'])\n",
    "\n",
    "# fit the model\n",
    "checkpoint = ModelCheckpoint('../models/tuneResNet_early_{epoch:02d}-{loss:.2f}.h5',\n",
    "                             monitor='loss',\n",
    "                             save_best_only=True)\n",
    "earlystop = EarlyStopping(min_delta=0.0001, patience=1)\n",
    "tunemodel.fit(data['X_train'], data['y_train'].reshape(-1, 1),\n",
    "              batch_size=16, epochs=10, validation_data=(data['X_test'], data['y_test'].reshape(-1, 1)),\n",
    "              callbacks=[checkpoint, earlystop], initial_epoch=0)\n",
    "\n",
    "# test the model and see accuracy\n",
    "score = tunemodel.evaluate(data['X_test'], data['y_test'].reshape(-1, 1),\n",
    "                           batch_size=16)\n",
    "print(score)"
   ]
  },
  {
   "cell_type": "code",
   "execution_count": null,
   "metadata": {
    "collapsed": true
   },
   "outputs": [],
   "source": []
  },
  {
   "cell_type": "markdown",
   "metadata": {},
   "source": [
    "# Create submissions"
   ]
  },
  {
   "cell_type": "markdown",
   "metadata": {},
   "source": [
    "Load the saved trained models and produce predictions for submission on Kaggle."
   ]
  },
  {
   "cell_type": "code",
   "execution_count": null,
   "metadata": {
    "collapsed": false
   },
   "outputs": [],
   "source": [
    "from lib.data_utils import create_submission\n",
    "from keras.models import load_model\n",
    "\n",
    "# for freeze ResNet50 model (3 epochs)\n",
    "simple_CNN = load_model('../models/freezeResNet_03-0.09.h5', custom_objects={'ktf': ktf})\n",
    "print('Load model successfully.')\n",
    "create_submission(simple_CNN, '../data/test.csv', '../submission/submission_freezeResNet_03.csv', 16, fit=True)"
   ]
  },
  {
   "cell_type": "code",
   "execution_count": null,
   "metadata": {
    "collapsed": true
   },
   "outputs": [],
   "source": []
  }
 ],
 "metadata": {
  "kernelspec": {
   "display_name": "Python 3",
   "language": "python",
   "name": "python3"
  },
  "language_info": {
   "codemirror_mode": {
    "name": "ipython",
    "version": 3
   },
   "file_extension": ".py",
   "mimetype": "text/x-python",
   "name": "python",
   "nbconvert_exporter": "python",
   "pygments_lexer": "ipython3",
   "version": "3.5.3"
  }
 },
 "nbformat": 4,
 "nbformat_minor": 0
}
